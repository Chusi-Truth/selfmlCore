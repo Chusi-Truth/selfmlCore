{
 "cells": [
  {
   "cell_type": "markdown",
   "id": "6fd83dc0",
   "metadata": {},
   "source": [
    "Recommended materials:\n",
    "\n",
    "[pytorch official doc](https://pytorch.ac.cn/docs/stable/torch.html)"
   ]
  },
  {
   "cell_type": "code",
   "execution_count": null,
   "id": "51ddbc27",
   "metadata": {},
   "outputs": [],
   "source": [
    "# import all modules\n",
    "import torch\n",
    "import numpy as np"
   ]
  },
  {
   "cell_type": "code",
   "execution_count": null,
   "id": "f2a9f5fa",
   "metadata": {},
   "outputs": [],
   "source": [
    "#useful functions to create tensor\n",
    "aDirect=torch.tensor([1,2,3]) #directly create\n",
    "aZero=torch.zeros(2,3)  #shape(2,3)\n",
    "bOne=torch.ones(4)     #shape(4,)\n",
    "cFull=torch.full((2,2),7)   #shape(2,2)with7\n",
    "aRand=torch.rand(3,3)   #obey uniform distribution[0,1)with shape (3,3)\n",
    "bRand=torch.randn(3,3)  #obey standard formal distribution with shape(3,3)\n",
    "cRand=torch.empty(2,2).uniform_(2,5)    #obey uniform distribution[2,5) with shape (2,2)\n",
    "dRand=torch.empty(2,2).normal_(mean=1,std=2)    #obey formal distribution with shape (2,2)\n",
    "aRange=torch.arange(0,10,2)  #create a tensor with range [0,10) with step 2\n",
    "bRange=torch.linspace(0,10,5)  #create a tensor with range [0,10] with 5 points\n",
    "\n",
    "arr=np.array([[1,2,3],[4,5,6]])  #create a numpy array\n",
    "aNumpy=torch.from_numpy(arr)  #convert numpy array to tensor\n",
    "aShape=torch.zeros_like(aNumpy)  #create a tensor with the same shape as aNumpy\n",
    "bShape=torch.ones_like(aNumpy)  #create a tensor with the same shape as aNumpy\n",
    "\n",
    "a = torch.zeros((2, 2), dtype=torch.float32, device='cpu')\n",
    "b = torch.ones((2, 2), dtype=torch.int64, device='cuda')\n",
    "\n",
    "print(aDirect)\n",
    "print(aZero)\n",
    "print(bOne)\n",
    "print(cFull)\n",
    "print(aRand)\n",
    "print(bRand)\n",
    "print(cRand)\n",
    "print(dRand)\n",
    "print(aRange)\n",
    "print(bRange)\n",
    "print(aNumpy)\n",
    "print(aShape)\n",
    "print(bShape)\n",
    "print(a)\n",
    "print(b)         "
   ]
  },
  {
   "cell_type": "code",
   "execution_count": null,
   "id": "33b7804f",
   "metadata": {},
   "outputs": [],
   "source": [
    "#useful functions to operate tensor"
   ]
  }
 ],
 "metadata": {
  "kernelspec": {
   "display_name": "base",
   "language": "python",
   "name": "python3"
  },
  "language_info": {
   "codemirror_mode": {
    "name": "ipython",
    "version": 3
   },
   "file_extension": ".py",
   "mimetype": "text/x-python",
   "name": "python",
   "nbconvert_exporter": "python",
   "pygments_lexer": "ipython3",
   "version": "3.10.16"
  }
 },
 "nbformat": 4,
 "nbformat_minor": 5
}
