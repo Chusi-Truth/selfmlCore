{
 "cells": [
  {
   "cell_type": "markdown",
   "id": "6fd83dc0",
   "metadata": {},
   "source": [
    "Recommended materials:\n",
    "\n",
    "[pytorch official doc](https://pytorch.ac.cn/docs/stable/torch.html)"
   ]
  },
  {
   "cell_type": "code",
   "execution_count": 1,
   "id": "51ddbc27",
   "metadata": {},
   "outputs": [],
   "source": [
    "# import all modules\n",
    "import torch\n",
    "import numpy as np"
   ]
  },
  {
   "cell_type": "code",
   "execution_count": 9,
   "id": "f2a9f5fa",
   "metadata": {},
   "outputs": [],
   "source": [
    "#useful functions to create tensor\n",
    "aDirect=torch.tensor([1,2,3]) #directly create\n",
    "aZero=torch.zeros(2,3)  #shape(2,3)\n",
    "bOne=torch.ones(4)     #shape(4,)\n",
    "cFull=torch.full((2,2),7)   #shape(2,2)with7\n",
    "aRand=torch.rand(3,3)   #obey uniform distribution[0,1)with shape (3,3)\n",
    "bRand=torch.randn(3,3)  #obey standard formal distribution with shape(3,3)\n",
    "cRand=torch.empty(2,2).uniform_(2,5)    #obey uniform distribution[2,5) with shape (2,2)\n",
    "dRand=torch.empty(2,2).normal_(mean=1,std=2)    #obey formal distribution with shape (2,2)\n",
    "aRange=torch.arange(0,10,2)  #create a tensor with range [0,10) with step 2\n",
    "bRange=torch.linspace(0,10,5)  #create a tensor with range [0,10] with 5 points\n",
    "\n",
    "arr=np.array([[1,2,3],[4,5,6]])  #create a numpy array\n",
    "aNumpy=torch.from_numpy(arr)  #convert numpy array to tensor\n",
    "aShape=torch.zeros_like(aNumpy)  #create a tensor with the same shape as aNumpy\n",
    "bShape=torch.ones_like(aNumpy)  #create a tensor with the same shape as aNumpy\n",
    "\n",
    "a = torch.zeros((2, 2), dtype=torch.float32, device='cpu')\n",
    "b = torch.ones((2, 2), dtype=torch.int64, device='cuda')\n",
    "     "
   ]
  },
  {
   "cell_type": "code",
   "execution_count": 13,
   "id": "33b7804f",
   "metadata": {},
   "outputs": [
    {
     "name": "stdout",
     "output_type": "stream",
     "text": [
      "torch.Size([2, 2])\n",
      "4\n",
      "2\n",
      "torch.int64\n",
      "torch.int64\n",
      "torch.Size([2, 12])\n",
      "torch.Size([4, 2, 3])\n",
      "torch.Size([4, 2, 5, 5])\n"
     ]
    }
   ],
   "source": [
    "#useful functions to operate tensor\n",
    "print(a.shape)  #shape\n",
    "print(a.numel())    #number of elements\n",
    "print(a.dim())  #number of dimensions\n",
    "print(a.dtype)  #data type\n",
    "a=a.to(torch.int64)  #change data type to int64\n",
    "print(a.dtype)  #data type\n",
    "y=a.view(-1,4)  #change shape to (-1,4), -1 means automatically calculate the number of rows\n",
    "x = torch.randn(2, 3, 4)\n",
    "z = x.flatten(start_dim=1)      # connect dimmension from 1 to the end\n",
    "print(z.shape)  #shape\n",
    "w=x.permute(2,0,1)  #change the order of dimensions, (2,0,1) means the first dimension becomes the third dimension, the second dimension becomes the first dimension, and the third dimension becomes the second dimension\n",
    "print(w.shape)  #shape\n",
    "x   = torch.randn(4, 3, 5, 5)      # (N=4, C=3, H=5, W=5)\n",
    "idx = torch.tensor([0, 2])         # kepp 0,2 channels\n",
    "row = torch.index_select(x, dim=1, index=idx)\n",
    "print(row.shape)    # -> (4, 2, 5, 5)"
   ]
  },
  {
   "cell_type": "code",
   "execution_count": 16,
   "id": "439e4d9f",
   "metadata": {},
   "outputs": [
    {
     "name": "stdout",
     "output_type": "stream",
     "text": [
      "cat_result.shape: torch.Size([6, 4])\n",
      "\n",
      "stack_result.shape: torch.Size([2, 3, 4])\n",
      "\n",
      "chunk shapes: [torch.Size([2, 6]), torch.Size([2, 6])]\n",
      "\n",
      "split shapes: [torch.Size([4, 1]), torch.Size([4, 2]), torch.Size([4, 3])]\n",
      "split[0]:\n",
      " tensor([[ 0],\n",
      "        [ 6],\n",
      "        [12],\n",
      "        [18]])\n",
      "split[1]:\n",
      " tensor([[ 1,  2],\n",
      "        [ 7,  8],\n",
      "        [13, 14],\n",
      "        [19, 20]])\n",
      "split[2]:\n",
      " tensor([[ 3,  4,  5],\n",
      "        [ 9, 10, 11],\n",
      "        [15, 16, 17],\n",
      "        [21, 22, 23]])\n"
     ]
    }
   ],
   "source": [
    "#split tensor\n",
    "# Two sample tensors of shape (3, 4)\n",
    "a = torch.arange(12).reshape(3, 4)\n",
    "b = torch.arange(100, 112).reshape(3, 4)\n",
    "\n",
    "# --------------------------\n",
    "# 1) torch.cat – concatenate along an existing dimension\n",
    "#    Here: dim=0 (row-wise), shape becomes (6, 4)\n",
    "# --------------------------\n",
    "cat_result = torch.cat([a, b], dim=0)\n",
    "print(\"cat_result.shape:\", cat_result.shape)\n",
    "\n",
    "\n",
    "# --------------------------\n",
    "# 2) torch.stack – create a new dimension and stack tensors\n",
    "#    Here: dim=0 ⇒ new leading axis, shape becomes (2, 3, 4)\n",
    "# --------------------------\n",
    "stack_result = torch.stack([a, b], dim=0)\n",
    "print(\"\\nstack_result.shape:\", stack_result.shape)\n",
    "\n",
    "\n",
    "# --------------------------\n",
    "# Prepare a tensor for splitting: shape (4, 6)\n",
    "# --------------------------\n",
    "x = torch.arange(24).reshape(4, 6)\n",
    "\n",
    "# 3) torch.chunk – evenly split into N chunks along dim\n",
    "#    Here: 2 chunks along dim=0 → each chunk has shape (2, 6)\n",
    "chunks = torch.chunk(x, chunks=2, dim=0)\n",
    "print(\"\\nchunk shapes:\", [c.shape for c in chunks])\n",
    "\n",
    "\n",
    "# 4) torch.split – split by explicit lengths\n",
    "#    Here: lengths [1, 2, 3] along dim=1\n",
    "#    Shapes become (4,1), (4,2), (4,3)\n",
    "splits = torch.split(x, [1, 2, 3], dim=1)\n",
    "print(\"\\nsplit shapes:\", [s.shape for s in splits])\n",
    "for i, part in enumerate(splits):\n",
    "    print(f\"split[{i}]:\\n\", part)"
   ]
  }
 ],
 "metadata": {
  "kernelspec": {
   "display_name": "base",
   "language": "python",
   "name": "python3"
  },
  "language_info": {
   "codemirror_mode": {
    "name": "ipython",
    "version": 3
   },
   "file_extension": ".py",
   "mimetype": "text/x-python",
   "name": "python",
   "nbconvert_exporter": "python",
   "pygments_lexer": "ipython3",
   "version": "3.10.16"
  }
 },
 "nbformat": 4,
 "nbformat_minor": 5
}
