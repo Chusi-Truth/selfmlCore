{
 "cells": [
  {
   "cell_type": "markdown",
   "id": "0ef89cef",
   "metadata": {},
   "source": [
    "### 决策树\n",
    "\n",
    "在这里我们尝试实现一个决策树类，对一个有着n个特征的向量进行分类"
   ]
  },
  {
   "cell_type": "code",
   "execution_count": 5,
   "id": "08b8b5b8",
   "metadata": {},
   "outputs": [],
   "source": [
    "import numpy as np\n",
    "\n",
    "class DecisionTree():\n",
    "    def __init__(self, max_depth=None):\n",
    "        self.max_depth = max_depth\n",
    "        self.tree = None\n",
    "\n",
    "    def fit(self, X, y):\n",
    "        self.tree = self._build_tree(X, y)\n",
    "\n",
    "    def predict(self, X):\n",
    "        return np.array([self._predict(sample, self.tree) for sample in X])\n",
    "\n",
    "    def _build_tree(self, X, y, depth=0):\n",
    "        num_samples, num_features = X.shape\n",
    "        unique_classes = np.unique(y)\n",
    "\n",
    "        # Stop criteria\n",
    "        if len(unique_classes) == 1 or (self.max_depth is not None and depth >= self.max_depth):\n",
    "            return unique_classes[0]\n",
    "\n",
    "        # Find the best split\n",
    "        best_feature, best_threshold = self._best_split(X, y)\n",
    "        if best_feature is None:\n",
    "            return np.random.choice(unique_classes)\n",
    "\n",
    "        left_indices = X[:, best_feature] < best_threshold\n",
    "        right_indices = X[:, best_feature] >= best_threshold\n",
    "\n",
    "        left_subtree = self._build_tree(X[left_indices], y[left_indices], depth + 1)\n",
    "        right_subtree = self._build_tree(X[right_indices], y[right_indices], depth + 1)\n",
    "\n",
    "        return (best_feature, best_threshold, left_subtree, right_subtree)\n",
    "\n",
    "    def _best_split(self, X, y):\n",
    "        num_samples, num_features = X.shape\n",
    "        best_gain = -1\n",
    "        best_feature = None\n",
    "        best_threshold = None\n",
    "\n",
    "        for feature in range(num_features):\n",
    "            thresholds = np.unique(X[:, feature])\n",
    "            for threshold in thresholds:\n",
    "                left_indices = X[:, feature] < threshold\n",
    "                right_indices = X[:, feature] >= threshold\n",
    "\n",
    "                if len(y[left_indices]) == 0 or len(y[right_indices]) == 0:\n",
    "                    continue\n",
    "\n",
    "                gain = self._information_gain(y, y[left_indices], y[right_indices])\n",
    "                if gain > best_gain:\n",
    "                    best_gain = gain\n",
    "                    best_feature = feature\n",
    "                    best_threshold = threshold\n",
    "\n",
    "        return best_feature, best_threshold\n",
    "\n",
    "    def _information_gain(self, parent_y, left_y, right_y):\n",
    "        weight_left = len(left_y) / len(parent_y)\n",
    "        weight_right = len(right_y) / len(parent_y)\n",
    "        \n",
    "        gain = self._entropy(parent_y) - (weight_left * self._entropy(left_y) + weight_right * self._entropy(right_y))\n",
    "        return gain\n",
    "    \n",
    "    def _entropy(self, y):\n",
    "        class_counts = np.bincount(y)\n",
    "        probabilities = class_counts / len(y)\n",
    "        probabilities = probabilities[probabilities > 0]\n",
    "        return -np.sum(probabilities * np.log2(probabilities))\n",
    "    \n",
    "    def _predict(self, sample, tree):\n",
    "        if not isinstance(tree, tuple):\n",
    "            return tree\n",
    "\n",
    "        feature, threshold, left_subtree, right_subtree = tree\n",
    "        if sample[feature] < threshold:\n",
    "            return self._predict(sample, left_subtree)\n",
    "        else:\n",
    "            return self._predict(sample, right_subtree)"
   ]
  },
  {
   "cell_type": "code",
   "execution_count": 6,
   "id": "46e2671b",
   "metadata": {},
   "outputs": [
    {
     "name": "stdout",
     "output_type": "stream",
     "text": [
      "[0 1 0 0 1]\n"
     ]
    }
   ],
   "source": [
    "# 示例\n",
    "X=np.array([[2, 3], [10, 15], [6, 8], [1, 2], [7, 9]])\n",
    "y=np.array([0, 1, 0, 0, 1])\n",
    "decisionTree=DecisionTree(max_depth=3)\n",
    "decisionTree.fit(X, y)\n",
    "predictions=decisionTree.predict(X)\n",
    "print(predictions)"
   ]
  }
 ],
 "metadata": {
  "kernelspec": {
   "display_name": "base",
   "language": "python",
   "name": "python3"
  },
  "language_info": {
   "codemirror_mode": {
    "name": "ipython",
    "version": 3
   },
   "file_extension": ".py",
   "mimetype": "text/x-python",
   "name": "python",
   "nbconvert_exporter": "python",
   "pygments_lexer": "ipython3",
   "version": "3.10.16"
  }
 },
 "nbformat": 4,
 "nbformat_minor": 5
}
