{
 "cells": [
  {
   "cell_type": "markdown",
   "id": "92de1ef6",
   "metadata": {},
   "source": [
    "### 统计学习的三个基本要素\n",
    "\n",
    "#### 模型\n",
    "\n",
    "简单来说，模型就是可以理解为一个input->process->output的范式。在监督学习的训练过程中，训练集会给出对应的输入与输入，我们通过调整process阶段去获得一个评价较好的模型。\n",
    "\n",
    "#### 策略\n",
    "\n",
    "策略可以理解为在训练过程中，我们指定的调整process过程的一些方法与准则。这包括了：\n",
    "\n",
    "- 损失函数\n",
    "\n",
    "损失函数计算当前模型的误差大小，一般来说，这个数值越小越好。在比较简单且常用的模型中，对损失函数求梯度得到的结果，就可以作为调整process的一个方向（随机梯度下降）\n",
    "\n",
    "#### 算法\n",
    "\n",
    "求解process的过程\n"
   ]
  },
  {
   "cell_type": "markdown",
   "id": "06fb081f",
   "metadata": {},
   "source": [
    "### 模型评估与模型选择\n",
    "\n",
    "#### 训练误差与测试误差\n",
    "\n",
    "#### 过拟合与模型选择\n",
    "\n"
   ]
  },
  {
   "cell_type": "code",
   "execution_count": null,
   "id": "952fe530",
   "metadata": {
    "vscode": {
     "languageId": "plaintext"
    }
   },
   "outputs": [],
   "source": [
    "### 正则化与交叉验证\n",
    "\n",
    "#### 正则化\n",
    "\n",
    "#### 交叉验证"
   ]
  }
 ],
 "metadata": {
  "language_info": {
   "name": "python"
  }
 },
 "nbformat": 4,
 "nbformat_minor": 5
}
